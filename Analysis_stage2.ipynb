{
 "cells": [
  {
   "cell_type": "markdown",
   "metadata": {},
   "source": [
    "# For all runs"
   ]
  },
  {
   "cell_type": "code",
   "execution_count": null,
   "metadata": {},
   "outputs": [],
   "source": [
    "import pandas as pd\n",
    "import wandb\n",
    "import numpy as np\n",
    "\n",
    "api = wandb.Api()\n",
    "\n",
    "runs = api.runs(\n",
    "    path=\"explainableml/ICL_torch\",\n",
    "    filters={\n",
    "        \"config.progress_measure\": True,\n",
    "        \"config.rope\": True,\n",
    "        \"state\": \"finished\",\n",
    "        \"Tags\": \"normalize_progress_measure\"\n",
    "    }\n",
    ")\n",
    "# Extract data and filter based on IC_Accuracy\n",
    "# runs = [\n",
    "#     run for run in runs \n",
    "#     if run.config.get(\"K\", 0) in [2048,4096,8192,16384]]\n",
    "# ---- 1. Gather every time-step from every run ---------------------------------\n",
    "#    For each metric build ONE long Series by concatenating the histories\n",
    "bags = {\n",
    "    \"IC_Accuracy\":        [],\n",
    "    \"IC2_Accuracy\":       [],\n",
    "    \"IH_strength_layer1\": [],\n",
    "    \"IH_strength_layer2\": [],\n",
    "    \"TILA_layer1\":        [],\n",
    "    \"TILA_layer2\":        [],\n",
    "    \"TIIA_layer1\":        [],\n",
    "    \"TIIA_layer2\":        [],\n",
    "    \"TLA_layer1\":         [],\n",
    "    \"TLA_layer2\":         [],\n",
    "    \"prev_1_attn_layer1\": [],\n",
    "    \"prev_1_attn_layer2\": [],\n",
    "    \"prob_icl_labels\":    [],\n",
    "}\n",
    "\n",
    "for run in runs:\n",
    "    h = run.history()                     # one DataFrame per run\n",
    "    for k in bags:\n",
    "        # Normalize the vector\n",
    "        v = (h[k] - np.mean(h[k]).item()) / np.std(h[k]).item()\n",
    "        bags[k].append(v)              # keep the whole Series (all steps)\n",
    "\n",
    "# ---- 2. Concatenate into vectors ---------------------------------------------\n",
    "vectors = {k: pd.concat(v, ignore_index=True) for k, v in bags.items()}\n",
    "\n",
    "# ---- 3. Correlation matrix (Pearson, by default) -----------------------------\n",
    "df = pd.DataFrame(vectors) \n",
    "corr = df.corr(method=\"pearson\")\n",
    "\n",
    "# ---- 4. Correlation of every metric with IC_Accuracy -------------------------\n",
    "corr_with_ic = corr[\"IC_Accuracy\"].sort_values(ascending=False)\n",
    "corr_with_ic2 = corr[\"IC2_Accuracy\"].sort_values(ascending=False)\n",
    "\n",
    "print(\"\\nPearson r between each metric vector and IC_Accuracy:\")\n",
    "print(corr_with_ic)\n",
    "# print(\"\\nPearson r between each metric vector and IC2_Accuracy:\")\n",
    "# print(corr_with_ic2)\n"
   ]
  }
 ],
 "metadata": {
  "kernelspec": {
   "display_name": "icl",
   "language": "python",
   "name": "python3"
  },
  "language_info": {
   "name": "python",
   "version": "3.13.3"
  }
 },
 "nbformat": 4,
 "nbformat_minor": 2
}
